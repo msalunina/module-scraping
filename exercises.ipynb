{
 "cells": [
  {
   "cell_type": "code",
   "execution_count": 1,
   "metadata": {
    "autoscroll": false,
    "ein.hycell": false,
    "ein.tags": "worksheet-0",
    "slideshow": {
     "slide_type": "-"
    }
   },
   "outputs": [],
   "source": [
    "from bs4 import BeautifulSoup\n",
    "import requests\n",
    "import random"
   ]
  },
  {
   "cell_type": "code",
   "execution_count": 2,
   "metadata": {
    "autoscroll": false,
    "ein.hycell": false,
    "ein.tags": "worksheet-0",
    "slideshow": {
     "slide_type": "-"
    }
   },
   "outputs": [],
   "source": [
    "START_URL = 'https://brickset.com/sets/year-2016'"
   ]
  },
  {
   "cell_type": "code",
   "execution_count": 3,
   "metadata": {
    "autoscroll": false,
    "ein.hycell": false,
    "ein.tags": "worksheet-0",
    "slideshow": {
     "slide_type": "-"
    }
   },
   "outputs": [],
   "source": [
    "# Exercise #1: Get the titles for each \"brickset\" on the first page\n",
    "\n",
    "def get_titles(soup):    \n",
    "    \"\"\" Returns a list of titles on the page \"\"\"\n",
    "    return [i.a.text for i in soup.find_all('h1') if i.a is not None]\n",
    "\n",
    "def parse_bricks(url):\n",
    "    \"\"\" Fetches Lego Bricks page and extracts titles \"\"\"\n",
    "    html_doc = requests.get(START_URL).content\n",
    "    soup = BeautifulSoup(html_doc, 'html.parser')\n",
    "    titles = get_titles(soup)\n",
    "    return titles"
   ]
  },
  {
   "cell_type": "code",
   "execution_count": 4,
   "metadata": {
    "autoscroll": false,
    "ein.hycell": false,
    "ein.tags": "worksheet-0",
    "slideshow": {
     "slide_type": "-"
    }
   },
   "outputs": [],
   "source": [
    "bricks = parse_bricks(START_URL)\n",
    "\n",
    "assert(bricks[0] == '10251:  Brick Bank')\n",
    "assert(bricks[9] == '10722:  Snake Showdown')"
   ]
  },
  {
   "cell_type": "code",
   "execution_count": 5,
   "metadata": {},
   "outputs": [],
   "source": [
    "# Exercise #2: Now write code that gets you all the links from ALL the pages\n",
    "\n",
    "def get_titles(soup):    \n",
    "    \"\"\" Returns a list of titles on the page \"\"\"\n",
    "    return [i.a.text for i in soup.find_all('h1') if i.a is not None]\n",
    "\n",
    "def get_links(soup):\n",
    "    \"\"\" Returns a list of links on the page \"\"\"\n",
    "    return [i.a.get('href') for i in soup.find_all('h1') if i.a is not None]\n",
    "\n",
    "def parse_bricks(url):\n",
    "    \"\"\" Extracts links from the page and link for the next page to parse \"\"\"\n",
    "    html_doc = requests.get(url).content\n",
    "    soup = BeautifulSoup(html_doc, 'html.parser')\n",
    "    titles = get_titles(soup)\n",
    "    links = [f'https://brickset.com{i}' for i in get_links(soup)]\n",
    "    page_links = dict(zip(titles, links))\n",
    "    next_page = soup.find(class_='next').a.get('href') if soup.find(class_='next').a is not None else False\n",
    "    return (next_page, page_links)\n",
    "    \n",
    "def get_bricks(url):\n",
    "    \"\"\" Returns dictionary with bricks titles and links \"\"\"\n",
    "    all_links = {}\n",
    "    while url:\n",
    "        url, links = parse_bricks(url)\n",
    "        all_links.update(links)\n",
    "    return all_links"
   ]
  },
  {
   "cell_type": "code",
   "execution_count": 6,
   "metadata": {},
   "outputs": [],
   "source": [
    "bricks_links = get_bricks(START_URL)"
   ]
  },
  {
   "cell_type": "code",
   "execution_count": 7,
   "metadata": {},
   "outputs": [
    {
     "name": "stdout",
     "output_type": "stream",
     "text": [
      "Length of the final dictionary: 826 \n",
      "\n",
      "Random sample:\n"
     ]
    },
    {
     "data": {
      "text/plain": [
       "{'30605:  Finn (FN-2187)': 'https://brickset.com/sets/30605-1/Finn-(FN-2187)',\n",
       " ' LEGO Ninjago Character Encyclopedia: Updated and Expanded': 'https://brickset.com/sets/ISBN0241232481-1/LEGO-Ninjago-Character-Encyclopedia-Updated-and-Expanded',\n",
       " '31045:  Ocean Explorer': 'https://brickset.com/sets/31045-1/Ocean-Explorer',\n",
       " '70593:  The Green NRG Dragon': 'https://brickset.com/sets/70593-1/The-Green-NRG-Dragon',\n",
       " \"41135:  Livi's Pop Star House\": 'https://brickset.com/sets/41135-1/Livi-s-Pop-Star-House',\n",
       " '71012:  LEGO Minifigures - The Disney Series - Sealed Box': 'https://brickset.com/sets/71012-20/LEGO-Minifigures-The-Disney-Series-Sealed-Box',\n",
       " '71012:  Donald Duck': 'https://brickset.com/sets/71012-10/Donald-Duck',\n",
       " \"70315:  Clay's Rumble Blade\": 'https://brickset.com/sets/70315-1/Clay-s-Rumble-Blade'}"
      ]
     },
     "execution_count": 7,
     "metadata": {},
     "output_type": "execute_result"
    }
   ],
   "source": [
    "sample_rate = 0.01\n",
    "random_keys = random.sample(list(bricks_links.keys()), int(sample_rate * len(bricks_links)))\n",
    "random_values = [bricks_links[k] for k in random_keys]\n",
    "sample_dict = dict(zip(random_keys, random_values))\n",
    "\n",
    "print('Length of the final dictionary:', len(bricks_links), '\\n')\n",
    "print('Random sample:')\n",
    "sample_dict"
   ]
  }
 ],
 "metadata": {
  "kernelspec": {
   "display_name": "Python 3",
   "language": "python",
   "name": "python3"
  },
  "language_info": {
   "codemirror_mode": {
    "name": "ipython",
    "version": 3
   },
   "file_extension": ".py",
   "mimetype": "text/x-python",
   "name": "python",
   "nbconvert_exporter": "python",
   "pygments_lexer": "ipython3",
   "version": "3.7.3"
  },
  "name": "exercises.ipynb"
 },
 "nbformat": 4,
 "nbformat_minor": 2
}
